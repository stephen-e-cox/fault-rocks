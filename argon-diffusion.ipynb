{
 "cells": [
  {
   "cell_type": "code",
   "execution_count": 2,
   "metadata": {},
   "outputs": [],
   "source": [
    "import pandas as pd\n",
    "import matplotlib.pyplot as plt\n",
    "import numpy as np\n",
    "import math\n",
    "import matplotlib as mpl\n",
    "import seaborn as sbs\n",
    "import matplotlib.cm as cm"
   ]
  },
  {
   "cell_type": "code",
   "execution_count": 3,
   "metadata": {},
   "outputs": [],
   "source": [
    "# Define some variables:\n",
    "# D = diffusion constant (i.e. ease of equalization)\n",
    "# F = fractional loss of argon\n",
    "# R = radius\n",
    "# t = time\n",
    "\n",
    "# For F < 10%\n",
    "\n",
    "F = np.linspace(5,100,5)\n",
    "R = 2e-6\n",
    "t = np.linspace(1,100,100)\n",
    "\n",
    "D = []\n",
    "\n",
    "for i in F:\n",
    "    D1 = []\n",
    "    if i == np.min(F):\n",
    "        for time in t:\n",
    "            D1.append(((i/100)**2 * np.pi * R**2)/(36 * time))\n",
    "        D = D1\n",
    "        \n",
    "    elif i <= 10:\n",
    "        for time in t: \n",
    "            D1.append(((i/100)**2 * np.pi * R**2)/(36 * time))\n",
    "        D = np.vstack([D,D1])\n",
    "        \n",
    "    elif i <= 90:\n",
    "        for time in t:\n",
    "            x = (R**2/(np.pi**2 * time)) * (2 * np.pi - (np.pi**2)/3 * i/100 - 2 * np.pi * math.sqrt(1 - np.pi/3 * i/100))\n",
    "            D1.append(x)\n",
    "        D = np.vstack([D,D1])\n",
    "    \n",
    "    elif i < 99:\n",
    "        for time in t:\n",
    "            x = -R**2/(np.pi**2 * time) * math.log((np.pi**2)/6 * (1 - i/100))\n",
    "            D1.append(x)\n",
    "        D = np.vstack([D,D1])\n",
    "           "
   ]
  },
  {
   "cell_type": "code",
   "execution_count": 5,
   "metadata": {},
   "outputs": [
    {
     "data": {
      "text/plain": [
       "Text(0.5, 0, 'Fraction Ar lost (%)')"
      ]
     },
     "execution_count": 5,
     "metadata": {},
     "output_type": "execute_result"
    },
    {
     "data": {
      "image/png": "[encoded data removed]",
      "text/plain": [
       "<Figure size 432x288 with 1 Axes>"
      ]
     },
     "metadata": {
      "needs_background": "light"
     },
     "output_type": "display_data"
    }
   ],
   "source": [
    "# make plots\n",
    "\n",
    "colors = plt.cm.rainbow(np.linspace(0, 1, len(F[0:-1])))\n",
    "           \n",
    "fig = plt.figure()\n",
    "plots = [] \n",
    "for i in range(len(F[0:-1])):\n",
    "    pl = plt.plot(F[0:-1], D[:,i], color = colors[i])\n",
    "    plots.append(pl)\n",
    "    \n",
    "plt.ylabel('Diffusion coefficient')\n",
    "plt.xlabel('Fraction Ar lost (%)')\n",
    "\n"
   ]
  },
  {
   "cell_type": "code",
   "execution_count": null,
   "metadata": {},
   "outputs": [],
   "source": []
  },
  {
   "cell_type": "code",
   "execution_count": 248,
   "metadata": {},
   "outputs": [
    {
     "data": {
      "text/plain": [
       "4"
      ]
     },
     "execution_count": 248,
     "metadata": {},
     "output_type": "execute_result"
    }
   ],
   "source": [
    "len(colors[0])"
   ]
  },
  {
   "cell_type": "code",
   "execution_count": null,
   "metadata": {},
   "outputs": [],
   "source": []
  }
 ],
 "metadata": {
  "kernelspec": {
   "display_name": "Python 3",
   "language": "python",
   "name": "python3"
  },
  "language_info": {
   "codemirror_mode": {
    "name": "ipython",
    "version": 3
   },
   "file_extension": ".py",
   "mimetype": "text/x-python",
   "name": "python",
   "nbconvert_exporter": "python",
   "pygments_lexer": "ipython3",
   "version": "3.7.6"
  }
 },
 "nbformat": 4,
 "nbformat_minor": 4
}
